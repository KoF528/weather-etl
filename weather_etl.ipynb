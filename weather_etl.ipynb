{
  "nbformat": 4,
  "nbformat_minor": 0,
  "metadata": {
    "colab": {
      "provenance": []
    },
    "kernelspec": {
      "name": "python3",
      "display_name": "Python 3"
    },
    "language_info": {
      "name": "python"
    }
  },
  "cells": [
    {
      "cell_type": "code",
      "source": [
        "import requests\n",
        "import pandas as pd\n",
        "import sqlite3\n",
        "from datetime import datetime\n",
        "\n",
        "# config\n",
        "API_KEY = '619a280fbcf44de6be0170103250109'\n",
        "CITY = 'London' , 'Paris'\n",
        "\n",
        "# extract\n",
        "def extract_weather_data(api_key, city):\n",
        "    url = f'http://api.weatherapi.com/v1/current.json?key={api_key}&q={city}&aqi=no'\n",
        "    response = requests.get(url)\n",
        "    response.raise_for_status() # raise error if bad response\n",
        "    return response.json()\n",
        "\n",
        "# transform\n",
        "def transform_weather_data(raw_json):\n",
        "    current = raw_json['current']\n",
        "    location = raw_json['location']\n",
        "    data = {\n",
        "        'city': location['name'],\n",
        "        'country': location['country'],\n",
        "        'temperature': current['temp_c'],\n",
        "        'humidity': current['humidity'],\n",
        "        'wind_speed': current['wind_kph'],\n",
        "        'timestamp': datetime.now().strftime('%Y-%m-%d %H:%M:%S')\n",
        "    }\n",
        "    return pd.DataFrame([data])\n",
        "\n",
        "# Load\n",
        "def load_to_sqlite(df, db_name = 'weather_data.db', table_name = 'weather'):\n",
        "    conn = sqlite3.connect(db_name)\n",
        "    df.to_sql(table_name, conn, if_exists='append', index=False)\n",
        "    conn.close()\n",
        "\n",
        "# pipeline\n",
        "if __name__ == '__main__':\n",
        "    for city in CITY:\n",
        "      raw_json = extract_weather_data(API_KEY, city)\n",
        "      df = transform_weather_data(raw_json)\n",
        "      load_to_sqlite(df)\n",
        "      print ('Data loaded into SQLite database')\n",
        "\n",
        "   # export data to csv\n",
        "    conn = sqlite3.connect('weather_data.db')\n",
        "    df = pd.read_sql_query('SELECT * FROM weather', conn)\n",
        "    df.to_csv('weather_data.csv', index=False)\n",
        "    print ('Data exported to weather_data.csv')\n",
        "    conn.close()\n",
        "\n"
      ],
      "metadata": {
        "colab": {
          "base_uri": "https://localhost:8080/"
        },
        "id": "ru0pE4-aTXfZ",
        "outputId": "fbcc82a0-34e0-4657-b21f-acee99e2a908"
      },
      "execution_count": 19,
      "outputs": [
        {
          "output_type": "stream",
          "name": "stdout",
          "text": [
            "Data loaded into SQLite database\n",
            "Data loaded into SQLite database\n",
            "Data exported to weather_data.csv\n"
          ]
        }
      ]
    },
    {
      "cell_type": "code",
      "source": [
        "!ls /content/"
      ],
      "metadata": {
        "colab": {
          "base_uri": "https://localhost:8080/"
        },
        "id": "G4EVMS84vcdv",
        "outputId": "e95aef1b-6940-492b-fe13-f1da16f214eb"
      },
      "execution_count": 17,
      "outputs": [
        {
          "output_type": "stream",
          "name": "stdout",
          "text": [
            "sample_data  weather_data.csv  weather_data.db\tweather-etl\n"
          ]
        }
      ]
    },
    {
      "cell_type": "code",
      "source": [],
      "metadata": {
        "id": "1gMjF35QvzLY"
      },
      "execution_count": null,
      "outputs": []
    }
  ]
}